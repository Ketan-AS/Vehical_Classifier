{
 "cells": [
  {
   "cell_type": "code",
   "execution_count": 113,
   "metadata": {},
   "outputs": [],
   "source": [
    "import tensorflow as tf\n",
    "from tensorflow.keras.models import Sequential\n",
    "from tensorflow.keras.layers import Conv2D, MaxPooling2D, Flatten, Dense, Dropout\n",
    "import numpy as np\n",
    "import pandas as pd\n",
    "import matplotlib.pyplot as plt\n",
    "from tensorflow.keras.preprocessing.image import ImageDataGenerator\n",
    "from PIL import ImageFile, Image\n",
    "ImageFile.LOAD_TRUNCATED_IMAGES = True"
   ]
  },
  {
   "cell_type": "code",
   "execution_count": 114,
   "metadata": {},
   "outputs": [
    {
     "name": "stdout",
     "output_type": "stream",
     "text": [
      "Found 1797 images belonging to 6 classes.\n",
      "Found 581 images belonging to 6 classes.\n"
     ]
    }
   ],
   "source": [
    "# Generate batches of tensor image data with real-time data augmentation.\n",
    "datagen = ImageDataGenerator(rescale=1./255)\n",
    "\n",
    "training_set=datagen.flow_from_directory(r\"E:\\ml1\\train\",\n",
    "                                                target_size=(64,64), \n",
    "                                               batch_size=100,\n",
    "                                               class_mode = 'categorical')\n",
    "test_set=datagen.flow_from_directory(r\"E:\\ml1\\test\",\n",
    "                                                target_size=(64,64), \n",
    "                                               batch_size=100,\n",
    "                                               class_mode = 'categorical')\n",
    "# class_mode='categorical' if you have more than 2 classses"
   ]
  },
  {
   "cell_type": "code",
   "execution_count": 115,
   "metadata": {},
   "outputs": [
    {
     "name": "stdout",
     "output_type": "stream",
     "text": [
      "Model: \"sequential_17\"\n",
      "_________________________________________________________________\n",
      " Layer (type)                Output Shape              Param #   \n",
      "=================================================================\n",
      " conv2d_60 (Conv2D)          (None, 62, 62, 32)        896       \n",
      "                                                                 \n",
      " max_pooling2d_57 (MaxPoolin  (None, 31, 31, 32)       0         \n",
      " g2D)                                                            \n",
      "                                                                 \n",
      " conv2d_61 (Conv2D)          (None, 29, 29, 64)        18496     \n",
      "                                                                 \n",
      " max_pooling2d_58 (MaxPoolin  (None, 14, 14, 64)       0         \n",
      " g2D)                                                            \n",
      "                                                                 \n",
      " dropout_9 (Dropout)         (None, 14, 14, 64)        0         \n",
      "                                                                 \n",
      " conv2d_62 (Conv2D)          (None, 12, 12, 128)       73856     \n",
      "                                                                 \n",
      " max_pooling2d_59 (MaxPoolin  (None, 6, 6, 128)        0         \n",
      " g2D)                                                            \n",
      "                                                                 \n",
      " flatten_12 (Flatten)        (None, 4608)              0         \n",
      "                                                                 \n",
      " dense_24 (Dense)            (None, 128)               589952    \n",
      "                                                                 \n",
      " dense_25 (Dense)            (None, 6)                 774       \n",
      "                                                                 \n",
      "=================================================================\n",
      "Total params: 683,974\n",
      "Trainable params: 683,974\n",
      "Non-trainable params: 0\n",
      "_________________________________________________________________\n"
     ]
    }
   ],
   "source": [
    "model = Sequential()\n",
    "model.add(Conv2D(32,(3,3), input_shape=(64,64,3)))\n",
    "model.add(MaxPooling2D(2,2))\n",
    "model.add(Conv2D(64, (3,3),activation='relu'))\n",
    "model.add(MaxPooling2D(2,2))\n",
    "model.add(Dropout(0.3))\n",
    "model.add(Conv2D(128, (3,3)))\n",
    "model.add(MaxPooling2D(2,2))\n",
    "model.add(Flatten())\n",
    "model.add(Dense(128, activation='relu'))\n",
    "model.add(Dense(6, activation='softmax'))\n",
    "model.summary()"
   ]
  },
  {
   "cell_type": "code",
   "execution_count": 116,
   "metadata": {},
   "outputs": [],
   "source": [
    "from tensorflow.keras.callbacks import EarlyStopping"
   ]
  },
  {
   "cell_type": "code",
   "execution_count": 117,
   "metadata": {},
   "outputs": [],
   "source": [
    "early_stopping= EarlyStopping(monitor='accuracy',patience =3)"
   ]
  },
  {
   "cell_type": "code",
   "execution_count": 118,
   "metadata": {},
   "outputs": [],
   "source": [
    "model.compile(optimizer='adam', loss='categorical_crossentropy',metrics=['accuracy'])\n",
    "\n",
    "\n",
    "# model.compile(optimizer='adam',loss=tf.keras.losses.SparseCategoricalCrossentropy(from_logits=False),metrics=['accuracy'])"
   ]
  },
  {
   "cell_type": "code",
   "execution_count": 119,
   "metadata": {},
   "outputs": [
    {
     "name": "stdout",
     "output_type": "stream",
     "text": [
      "Epoch 1/30\n",
      "18/18 [==============================] - 15s 770ms/step - loss: 1.5746 - accuracy: 0.3389 - val_loss: 1.3119 - val_accuracy: 0.5284\n",
      "Epoch 2/30\n",
      "18/18 [==============================] - 13s 740ms/step - loss: 0.9419 - accuracy: 0.6717 - val_loss: 1.3062 - val_accuracy: 0.5749\n",
      "Epoch 3/30\n",
      "18/18 [==============================] - 13s 719ms/step - loss: 0.6914 - accuracy: 0.7596 - val_loss: 1.1195 - val_accuracy: 0.6317\n",
      "Epoch 4/30\n",
      "18/18 [==============================] - 13s 736ms/step - loss: 0.5428 - accuracy: 0.8136 - val_loss: 1.1891 - val_accuracy: 0.6403\n",
      "Epoch 5/30\n",
      "18/18 [==============================] - 13s 739ms/step - loss: 0.4243 - accuracy: 0.8570 - val_loss: 1.1265 - val_accuracy: 0.6575\n",
      "Epoch 6/30\n",
      "18/18 [==============================] - 13s 727ms/step - loss: 0.3675 - accuracy: 0.8720 - val_loss: 0.7347 - val_accuracy: 0.7659\n",
      "Epoch 7/30\n",
      "18/18 [==============================] - 13s 708ms/step - loss: 0.2868 - accuracy: 0.8976 - val_loss: 1.0468 - val_accuracy: 0.6885\n",
      "Epoch 8/30\n",
      "18/18 [==============================] - 12s 712ms/step - loss: 0.2073 - accuracy: 0.9316 - val_loss: 0.7646 - val_accuracy: 0.7900\n",
      "Epoch 9/30\n",
      "18/18 [==============================] - 13s 717ms/step - loss: 0.1832 - accuracy: 0.9388 - val_loss: 0.8978 - val_accuracy: 0.7659\n",
      "Epoch 10/30\n",
      "18/18 [==============================] - 13s 708ms/step - loss: 0.1485 - accuracy: 0.9482 - val_loss: 0.8559 - val_accuracy: 0.7849\n",
      "Epoch 11/30\n",
      "18/18 [==============================] - 13s 748ms/step - loss: 0.1042 - accuracy: 0.9722 - val_loss: 1.0127 - val_accuracy: 0.7539\n",
      "Epoch 12/30\n",
      "18/18 [==============================] - 13s 721ms/step - loss: 0.0746 - accuracy: 0.9772 - val_loss: 0.9147 - val_accuracy: 0.7797\n",
      "Epoch 13/30\n",
      "18/18 [==============================] - 13s 726ms/step - loss: 0.0430 - accuracy: 0.9917 - val_loss: 0.9481 - val_accuracy: 0.7831\n",
      "Epoch 14/30\n",
      "18/18 [==============================] - 13s 732ms/step - loss: 0.0266 - accuracy: 0.9955 - val_loss: 1.1552 - val_accuracy: 0.7745\n",
      "Epoch 15/30\n",
      "18/18 [==============================] - 13s 738ms/step - loss: 0.0202 - accuracy: 0.9983 - val_loss: 1.1648 - val_accuracy: 0.7762\n",
      "Epoch 16/30\n",
      "18/18 [==============================] - 13s 733ms/step - loss: 0.0188 - accuracy: 0.9972 - val_loss: 0.9732 - val_accuracy: 0.8262\n",
      "Epoch 17/30\n",
      "18/18 [==============================] - 13s 725ms/step - loss: 0.0165 - accuracy: 0.9967 - val_loss: 1.1050 - val_accuracy: 0.8072\n",
      "Epoch 18/30\n",
      "18/18 [==============================] - 13s 719ms/step - loss: 0.0142 - accuracy: 0.9978 - val_loss: 1.0929 - val_accuracy: 0.8158\n"
     ]
    },
    {
     "data": {
      "text/plain": [
       "<keras.callbacks.History at 0x2438d0a33a0>"
      ]
     },
     "execution_count": 119,
     "metadata": {},
     "output_type": "execute_result"
    }
   ],
   "source": [
    "model.fit(training_set, epochs=30, validation_data=test_set,callbacks=[early_stopping])"
   ]
  },
  {
   "cell_type": "code",
   "execution_count": 120,
   "metadata": {},
   "outputs": [],
   "source": [
    "from tensorflow.keras.preprocessing import image"
   ]
  },
  {
   "cell_type": "code",
   "execution_count": null,
   "metadata": {},
   "outputs": [],
   "source": []
  },
  {
   "cell_type": "code",
   "execution_count": null,
   "metadata": {},
   "outputs": [],
   "source": []
  },
  {
   "cell_type": "code",
   "execution_count": null,
   "metadata": {},
   "outputs": [],
   "source": []
  },
  {
   "cell_type": "code",
   "execution_count": null,
   "metadata": {},
   "outputs": [],
   "source": []
  },
  {
   "cell_type": "code",
   "execution_count": null,
   "metadata": {},
   "outputs": [],
   "source": []
  },
  {
   "cell_type": "code",
   "execution_count": 121,
   "metadata": {},
   "outputs": [
    {
     "name": "stdout",
     "output_type": "stream",
     "text": [
      "(64, 64, 3)\n",
      "(1, 64, 64, 3)\n",
      "1/1 [==============================] - 0s 64ms/step\n"
     ]
    },
    {
     "data": {
      "text/plain": [
       "array([[0., 0., 0., 0., 0., 1.]], dtype=float32)"
      ]
     },
     "execution_count": 121,
     "metadata": {},
     "output_type": "execute_result"
    },
    {
     "data": {
      "image/png": "[encoded data removed]",
      "text/plain": [
       "<Figure size 640x480 with 1 Axes>"
      ]
     },
     "metadata": {},
     "output_type": "display_data"
    }
   ],
   "source": [
    "img = image.load_img(r\"E:\\ml\\Test set\\Heavy\\images (55).jpg\"\n",
    "                    ,target_size = (64,64))\n",
    "plt.imshow(img);\n",
    "test_img = np.asarray(img)\n",
    "print(test_img.shape)\n",
    "# reshape to add 1 row\n",
    "test_img = test_img.reshape(1,64,64,3)\n",
    "print(test_img.shape)\n",
    "model.predict(test_img)"
   ]
  },
  {
   "cell_type": "code",
   "execution_count": 112,
   "metadata": {},
   "outputs": [
    {
     "data": {
      "text/plain": [
       "{'bike': 0, 'bus': 1, 'cycle': 2, 'sedan': 3, 'suv': 4, 'truck': 5}"
      ]
     },
     "execution_count": 112,
     "metadata": {},
     "output_type": "execute_result"
    }
   ],
   "source": [
    "training_set.class_indices"
   ]
  },
  {
   "cell_type": "code",
   "execution_count": 135,
   "metadata": {},
   "outputs": [
    {
     "name": "stdout",
     "output_type": "stream",
     "text": [
      "(64, 64, 3)\n",
      "(1, 64, 64, 3)\n",
      "1/1 [==============================] - 0s 21ms/step\n"
     ]
    },
    {
     "data": {
      "text/plain": [
       "array([[0., 0., 0., 0., 0., 1.]], dtype=float32)"
      ]
     },
     "execution_count": 135,
     "metadata": {},
     "output_type": "execute_result"
    },
    {
     "data": {
      "image/png": "[encoded data removed]",
      "text/plain": [
       "<Figure size 640x480 with 1 Axes>"
      ]
     },
     "metadata": {},
     "output_type": "display_data"
    }
   ],
   "source": [
    "img = image.load_img(r\"E:\\ml\\th.jpg\"\n",
    "                    ,target_size = (64,64))\n",
    "plt.imshow(img);\n",
    "test_img = np.asarray(img)\n",
    "print(test_img.shape)\n",
    "# reshape to add 1 row\n",
    "test_img = test_img.reshape(1,64,64,3)\n",
    "print(test_img.shape)\n",
    "model.predict(test_img)"
   ]
  },
  {
   "cell_type": "code",
   "execution_count": 136,
   "metadata": {},
   "outputs": [],
   "source": [
    "model.save(\"vehicleclassifier.h5\")"
   ]
  },
  {
   "cell_type": "code",
   "execution_count": null,
   "metadata": {},
   "outputs": [],
   "source": []
  }
 ],
 "metadata": {
  "kernelspec": {
   "display_name": "Python 3 (ipykernel)",
   "language": "python",
   "name": "python3"
  },
  "language_info": {
   "codemirror_mode": {
    "name": "ipython",
    "version": 3
   },
   "file_extension": ".py",
   "mimetype": "text/x-python",
   "name": "python",
   "nbconvert_exporter": "python",
   "pygments_lexer": "ipython3",
   "version": "3.10.9"
  }
 },
 "nbformat": 4,
 "nbformat_minor": 2
}
